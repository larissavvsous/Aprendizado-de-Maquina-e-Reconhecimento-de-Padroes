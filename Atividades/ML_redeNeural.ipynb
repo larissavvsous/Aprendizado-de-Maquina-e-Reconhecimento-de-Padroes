{
  "nbformat": 4,
  "nbformat_minor": 0,
  "metadata": {
    "colab": {
      "provenance": []
    },
    "kernelspec": {
      "name": "python3",
      "display_name": "Python 3"
    },
    "language_info": {
      "name": "python"
    }
  },
  "cells": [
    {
      "cell_type": "markdown",
      "source": [
        "## Rede Neural do zero\n",
        "### Bibliotecas"
      ],
      "metadata": {
        "id": "waYAgyygBa7p"
      }
    },
    {
      "cell_type": "code",
      "source": [
        "import numpy as np\n",
        "import pandas as pd"
      ],
      "metadata": {
        "id": "6BKX5riqsMyt"
      },
      "execution_count": 1,
      "outputs": []
    },
    {
      "cell_type": "markdown",
      "source": [
        "### Função de ativação sigmóide e derivada"
      ],
      "metadata": {
        "id": "t_2LeW8asNy9"
      }
    },
    {
      "cell_type": "code",
      "source": [
        "def sigmoid(x):\n",
        "    return 1 / (1 + np.exp(-x))\n",
        "\n",
        "def sigmoid_derivative(x):\n",
        "    return x * (1 - x)"
      ],
      "metadata": {
        "id": "HHVWtHXasZMk"
      },
      "execution_count": 2,
      "outputs": []
    },
    {
      "cell_type": "markdown",
      "source": [
        "### Classe da Rede Neural"
      ],
      "metadata": {
        "id": "5eVw0DBLsZ4a"
      }
    },
    {
      "cell_type": "code",
      "source": [
        "class NeuralNetwork:\n",
        "    def __init__(self, input_size, hidden_size, output_size):\n",
        "        self.input_size = input_size\n",
        "        self.hidden_size = hidden_size\n",
        "        self.output_size = output_size\n",
        "\n",
        "        # Inicialização aleatória dos pesos\n",
        "        self.weights_input_hidden = np.random.randn(self.input_size, self.hidden_size)\n",
        "        self.weights_hidden_output = np.random.randn(self.hidden_size, self.output_size)\n",
        "\n",
        "        # Inicialização dos bias\n",
        "        self.bias_hidden = np.zeros((1, self.hidden_size))\n",
        "        self.bias_output = np.zeros((1, self.output_size))\n",
        "\n",
        "    def forward(self, X):\n",
        "        # Forward pass\n",
        "        self.hidden_output = sigmoid(np.dot(X, self.weights_input_hidden) + self.bias_hidden)\n",
        "        self.predicted_output = sigmoid(np.dot(self.hidden_output, self.weights_hidden_output) + self.bias_output)\n",
        "        return self.predicted_output\n",
        "\n",
        "    def backward(self, X, y, learning_rate):\n",
        "        # Backward pass\n",
        "\n",
        "        # Cálculo do erro na camada de saída\n",
        "        error_output = y - self.predicted_output\n",
        "        d_predicted_output = error_output * sigmoid_derivative(self.predicted_output)\n",
        "\n",
        "        # Propagando o erro de volta para a camada oculta\n",
        "        error_hidden = d_predicted_output.dot(self.weights_hidden_output.T)\n",
        "        d_hidden_output = error_hidden * sigmoid_derivative(self.hidden_output)\n",
        "\n",
        "        # Atualizando os pesos e bias\n",
        "        self.weights_hidden_output += self.hidden_output.T.dot(d_predicted_output) * learning_rate\n",
        "        self.weights_input_hidden += X.T.dot(d_hidden_output) * learning_rate\n",
        "\n",
        "        self.bias_output += np.sum(d_predicted_output, axis=0) * learning_rate\n",
        "        self.bias_hidden += np.sum(d_hidden_output, axis=0) * learning_rate"
      ],
      "metadata": {
        "id": "WQh7FoK2scs6"
      },
      "execution_count": 3,
      "outputs": []
    },
    {
      "cell_type": "markdown",
      "source": [
        "## Exemplo: RN simples aprendendo com a função `OR`\n",
        "### Dados de entrada e saída"
      ],
      "metadata": {
        "id": "ZsObJvhMsnWJ"
      }
    },
    {
      "cell_type": "code",
      "source": [
        "X = np.array([[0, 0], [0, 1], [1, 0], [1, 1], [0, 1], [1, 0], [0, 0], [1, 1]])\n",
        "y = np.array([[0], [1], [1], [1], [1], [1], [0], [1]])"
      ],
      "metadata": {
        "id": "8bsmWJwFs344"
      },
      "execution_count": 4,
      "outputs": []
    },
    {
      "cell_type": "markdown",
      "source": [
        "### Definindo parâmetros da RN"
      ],
      "metadata": {
        "id": "Li0l26SBs5Jn"
      }
    },
    {
      "cell_type": "code",
      "source": [
        "input_size = 2\n",
        "hidden_size = 3\n",
        "output_size = 1\n",
        "learning_rate = 0.1\n",
        "epochs = 10000"
      ],
      "metadata": {
        "id": "sfH9AXw3s9gB"
      },
      "execution_count": 5,
      "outputs": []
    },
    {
      "cell_type": "markdown",
      "source": [
        "### Criando a RN"
      ],
      "metadata": {
        "id": "ofQ8GCVHtAKh"
      }
    },
    {
      "cell_type": "code",
      "source": [
        "nn = NeuralNetwork(input_size, hidden_size, output_size)"
      ],
      "metadata": {
        "id": "l0N3ttjgtCfK"
      },
      "execution_count": 6,
      "outputs": []
    },
    {
      "cell_type": "markdown",
      "source": [
        "### Treinamento da RN"
      ],
      "metadata": {
        "id": "HB-hWFHltLLS"
      }
    },
    {
      "cell_type": "code",
      "source": [
        "for epoch in range(epochs):\n",
        "    output = nn.forward(X)\n",
        "    nn.backward(X, y, learning_rate)"
      ],
      "metadata": {
        "id": "JpzFLx-ktRWs"
      },
      "execution_count": 7,
      "outputs": []
    },
    {
      "cell_type": "markdown",
      "source": [
        "### Testando a RN treinada"
      ],
      "metadata": {
        "id": "9Y0448hPtR05"
      }
    },
    {
      "cell_type": "code",
      "source": [
        "predictions = nn.forward(X)\n",
        "predictions_class = np.where(predictions > 0.5, 1, 0)"
      ],
      "metadata": {
        "id": "FtGXzF2zsDqU"
      },
      "execution_count": 8,
      "outputs": []
    },
    {
      "cell_type": "markdown",
      "source": [
        "### Funções para calcular as métricas"
      ],
      "metadata": {
        "id": "D93X-KHCug2z"
      }
    },
    {
      "cell_type": "code",
      "source": [
        "def accuracy(y_true, y_pred):\n",
        "    correct = np.sum(y_true == y_pred)\n",
        "    total = len(y_true)\n",
        "    return correct / total\n",
        "\n",
        "def precision(y_true, y_pred):\n",
        "    true_positives = np.sum((y_true == 1) & (y_pred == 1))\n",
        "    false_positives = np.sum((y_true == 0) & (y_pred == 1))\n",
        "    if true_positives + false_positives == 0:\n",
        "        return 0\n",
        "    return true_positives / (true_positives + false_positives)\n",
        "\n",
        "def recall(y_true, y_pred):\n",
        "    true_positives = np.sum((y_true == 1) & (y_pred == 1))\n",
        "    false_negatives = np.sum((y_true == 1) & (y_pred == 0))\n",
        "    if true_positives + false_negatives == 0:\n",
        "        return 0\n",
        "    return true_positives / (true_positives + false_negatives)\n",
        "\n",
        "def f1_score(y_true, y_pred):\n",
        "    prec = precision(y_true, y_pred)\n",
        "    rec = recall(y_true, y_pred)\n",
        "    if prec + rec == 0:\n",
        "        return 0\n",
        "    return 2 * (prec * rec) / (prec + rec)"
      ],
      "metadata": {
        "id": "lwIp2pV6u8Dj"
      },
      "execution_count": 9,
      "outputs": []
    },
    {
      "cell_type": "markdown",
      "source": [
        "### Convertendo as previsões para as classes (0 ou 1)"
      ],
      "metadata": {
        "id": "nK7Yed9Du-a1"
      }
    },
    {
      "cell_type": "code",
      "source": [
        "predictions_class = np.where(predictions > 0.5, 1, 0)"
      ],
      "metadata": {
        "id": "VXDPYwnxu_Ny"
      },
      "execution_count": 11,
      "outputs": []
    },
    {
      "cell_type": "markdown",
      "source": [
        "### Calculando as métricas"
      ],
      "metadata": {
        "id": "ljxbN_emvJZd"
      }
    },
    {
      "cell_type": "code",
      "source": [
        "acc = accuracy(y.flatten(), predictions_class.flatten())\n",
        "prec = precision(y.flatten(), predictions_class.flatten())\n",
        "rec = recall(y.flatten(), predictions_class.flatten())\n",
        "f1 = f1_score(y.flatten(), predictions_class.flatten())"
      ],
      "metadata": {
        "id": "5ap30zVIufNR"
      },
      "execution_count": 12,
      "outputs": []
    },
    {
      "cell_type": "code",
      "source": [
        "print(\"Accuracy:\", acc)\n",
        "print(\"Precision:\", prec)\n",
        "print(\"Recall:\", rec)\n",
        "print(\"F1 Score:\", f1)"
      ],
      "metadata": {
        "colab": {
          "base_uri": "https://localhost:8080/"
        },
        "id": "cr-8QkVzvIfA",
        "outputId": "28c9ad91-9204-4a0f-ebc3-0abb1eb8924b"
      },
      "execution_count": 13,
      "outputs": [
        {
          "output_type": "stream",
          "name": "stdout",
          "text": [
            "Accuracy: 1.0\n",
            "Precision: 1.0\n",
            "Recall: 1.0\n",
            "F1 Score: 1.0\n"
          ]
        }
      ]
    }
  ]
}
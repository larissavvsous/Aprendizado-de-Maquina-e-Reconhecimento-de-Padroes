{
  "cells": [
    {
      "cell_type": "markdown",
      "metadata": {
        "id": "view-in-github",
        "colab_type": "text"
      },
      "source": [
        "<a href=\"https://colab.research.google.com/github/larissavvsous/Aprendizado-de-Maquina-e-Reconhecimento-de-Padroes/blob/main/Larissa_sudoku_solver.ipynb\" target=\"_parent\"><img src=\"https://colab.research.google.com/assets/colab-badge.svg\" alt=\"Open In Colab\"/></a>"
      ]
    },
    {
      "cell_type": "markdown",
      "id": "f61055e0",
      "metadata": {
        "id": "f61055e0"
      },
      "source": [
        "# Genetic Algorithm"
      ]
    },
    {
      "cell_type": "markdown",
      "id": "ef69798b",
      "metadata": {
        "id": "ef69798b"
      },
      "source": [
        "In this project, the aim is to solve a sudoku puzzle using the genetic algorithm"
      ]
    },
    {
      "cell_type": "code",
      "source": [
        "from google.colab import drive\n",
        "drive.mount('/content/drive')"
      ],
      "metadata": {
        "colab": {
          "base_uri": "https://localhost:8080/"
        },
        "id": "xda4ECD4I3si",
        "outputId": "726f0ff1-789a-4c6f-bdfd-4fa41eed6138"
      },
      "id": "xda4ECD4I3si",
      "execution_count": 16,
      "outputs": [
        {
          "output_type": "stream",
          "name": "stdout",
          "text": [
            "Drive already mounted at /content/drive; to attempt to forcibly remount, call drive.mount(\"/content/drive\", force_remount=True).\n"
          ]
        }
      ]
    },
    {
      "cell_type": "code",
      "execution_count": 17,
      "id": "8bd63cc2",
      "metadata": {
        "ExecuteTime": {
          "end_time": "2023-05-29T11:29:10.920391670Z",
          "start_time": "2023-05-29T11:29:10.920047102Z"
        },
        "id": "8bd63cc2"
      },
      "outputs": [],
      "source": [
        "import random as rndm\n",
        "import time"
      ]
    },
    {
      "cell_type": "markdown",
      "id": "6527cc01",
      "metadata": {
        "id": "6527cc01"
      },
      "source": [
        "## Part 1: Defining Genes and Chromosomes"
      ]
    },
    {
      "cell_type": "markdown",
      "id": "f44516b4",
      "metadata": {
        "id": "f44516b4"
      },
      "source": [
        "A gene is the value of a row and is a permutation of set {1 ... 9}. A chromosome consists of 9 genes, each gene representing a row of the actual sudoku puzzle."
      ]
    },
    {
      "cell_type": "code",
      "execution_count": 18,
      "id": "62151fed",
      "metadata": {
        "ExecuteTime": {
          "end_time": "2023-05-29T11:29:12.531465713Z",
          "start_time": "2023-05-29T11:29:12.480669591Z"
        },
        "id": "62151fed"
      },
      "outputs": [],
      "source": [
        "def make_gene(initial=None):\n",
        "    if initial is None:\n",
        "        initial = [0] * 16\n",
        "    mapp = {}\n",
        "    gene = list(range(1, 17))\n",
        "    rndm.shuffle(gene)\n",
        "    for i in range(16):\n",
        "        mapp[gene[i]] = i\n",
        "    for i in range(16):\n",
        "        if initial[i] != 0 and gene[i] != initial[i]:\n",
        "            temp = gene[i], gene[mapp[initial[i]]]\n",
        "            gene[mapp[initial[i]]], gene[i] = temp\n",
        "            mapp[initial[i]], mapp[temp[0]] = i, mapp[initial[i]]\n",
        "    return gene"
      ]
    },
    {
      "cell_type": "code",
      "execution_count": 19,
      "id": "61cc7916",
      "metadata": {
        "ExecuteTime": {
          "end_time": "2023-05-29T11:29:12.690242698Z",
          "start_time": "2023-05-29T11:29:12.674358921Z"
        },
        "id": "61cc7916"
      },
      "outputs": [],
      "source": [
        "def make_chromosome(initial=None):\n",
        "    if initial is None:\n",
        "        initial = [[0] * 16] * 16\n",
        "    chromosome = []\n",
        "    for i in range(16):\n",
        "        chromosome.append(make_gene(initial[i]))\n",
        "    return chromosome"
      ]
    },
    {
      "cell_type": "markdown",
      "source": [],
      "metadata": {
        "collapsed": false,
        "id": "tIugZl0bmUgE"
      },
      "id": "tIugZl0bmUgE"
    },
    {
      "cell_type": "markdown",
      "id": "be99629e",
      "metadata": {
        "id": "be99629e"
      },
      "source": [
        "## Part 2: Making First Generation"
      ]
    },
    {
      "cell_type": "markdown",
      "id": "0e917e9c",
      "metadata": {
        "id": "0e917e9c"
      },
      "source": [
        "In this part, a function is implemented to randomly create a population."
      ]
    },
    {
      "cell_type": "code",
      "execution_count": 20,
      "id": "ed4d7238",
      "metadata": {
        "ExecuteTime": {
          "end_time": "2023-05-29T11:29:13.834764530Z",
          "start_time": "2023-05-29T11:29:13.791140818Z"
        },
        "id": "ed4d7238"
      },
      "outputs": [],
      "source": [
        "def make_population(count, initial=None):\n",
        "    if initial is None:\n",
        "        initial = [[0] * 16] * 16\n",
        "    population = []\n",
        "    for _ in range(count):\n",
        "        population.append(make_chromosome(initial))\n",
        "    return population"
      ]
    },
    {
      "cell_type": "markdown",
      "id": "2dce4969",
      "metadata": {
        "id": "2dce4969"
      },
      "source": [
        "## Part 3: Fitness Function"
      ]
    },
    {
      "cell_type": "markdown",
      "id": "dfe610a8",
      "metadata": {
        "id": "dfe610a8"
      },
      "source": [
        "The fitness function calculates how \"fit\" a chromosome (puzzle) is based on:\n",
        "- For each column: Subtract (number of times a number is seen) - 1 from the fitness for that number\n",
        "- For each 3x3 square: Subtract (number of times a number is seen) - 1 from the fitness for that number\n",
        "The higher the fitness, the closer the puzzle is to being solved."
      ]
    },
    {
      "cell_type": "code",
      "execution_count": 21,
      "outputs": [],
      "source": [
        "def get_fitness(chromosome):\n",
        "    \"\"\"Calculate the fitness of a chromosome (puzzle).\"\"\"\n",
        "    fitness = 0\n",
        "    for i in range(16): # For each column\n",
        "        seen = {}\n",
        "        for j in range(16): # Check each cell in the column\n",
        "            if chromosome[j][i] in seen:\n",
        "                seen[chromosome[j][i]] += 1\n",
        "            else:\n",
        "                seen[chromosome[j][i]] = 1\n",
        "        for key in seen: # Subtract fitness for repeated numbers\n",
        "            fitness -= (seen[key] - 1)\n",
        "    for m in range(4): # For each 3x3 square\n",
        "        for n in range(4):\n",
        "            seen = {}\n",
        "            for i in range(4 * n, 4 * (n + 1)):  # Check cells in 3x3 square\n",
        "                for j in range(4 * m, 4 * (m + 1)):\n",
        "                    if chromosome[j][i] in seen:\n",
        "                        seen[chromosome[j][i]] += 1\n",
        "                    else:\n",
        "                        seen[chromosome[j][i]] = 1\n",
        "            for key in seen: # Subtract fitness for repeated numbers\n",
        "                fitness -= (seen[key] - 1)\n",
        "    return fitness"
      ],
      "metadata": {
        "ExecuteTime": {
          "end_time": "2023-05-29T11:29:14.742392976Z",
          "start_time": "2023-05-29T11:29:14.726582520Z"
        },
        "id": "F-k3CrxKmUgH"
      },
      "id": "F-k3CrxKmUgH"
    },
    {
      "cell_type": "code",
      "execution_count": 22,
      "outputs": [
        {
          "output_type": "stream",
          "name": "stdout",
          "text": [
            "-176\n"
          ]
        }
      ],
      "source": [
        "ch = make_chromosome()\n",
        "print(get_fitness(ch))\n",
        "\n",
        "\n",
        "def pch(ch):\n",
        "    for i in range(16):\n",
        "        for j in range(16):\n",
        "            print(ch[i][j], end=\" \")\n",
        "        print(\"\")\n"
      ],
      "metadata": {
        "ExecuteTime": {
          "end_time": "2023-05-29T11:29:14.990855629Z",
          "start_time": "2023-05-29T11:29:14.974964813Z"
        },
        "colab": {
          "base_uri": "https://localhost:8080/"
        },
        "id": "XFS1yksUmUgH",
        "outputId": "3537d9d3-0688-4184-fe68-6091d584c970"
      },
      "id": "XFS1yksUmUgH"
    },
    {
      "cell_type": "markdown",
      "source": [
        "## Part 4: Crossover and Mutation"
      ],
      "metadata": {
        "collapsed": false,
        "id": "JpPH6xx4mUgJ"
      },
      "id": "JpPH6xx4mUgJ"
    },
    {
      "cell_type": "markdown",
      "id": "a48e21e3",
      "metadata": {
        "id": "a48e21e3"
      },
      "source": [
        "In this part, the crossover and mutation function is implemented to help in determining the next generation."
      ]
    },
    {
      "cell_type": "markdown",
      "id": "0b3165a6",
      "metadata": {
        "id": "0b3165a6"
      },
      "source": [
        "### Crossover"
      ]
    },
    {
      "cell_type": "markdown",
      "id": "3f4b1fbc",
      "metadata": {
        "id": "3f4b1fbc"
      },
      "source": [
        "the crossover function takes two chromosomes as input and makes two new chromosomes by combining them. This crossover function decides the parent of each gene separately, so the result is independent of the location of the genes."
      ]
    },
    {
      "cell_type": "code",
      "execution_count": 23,
      "id": "5b5e5769",
      "metadata": {
        "ExecuteTime": {
          "end_time": "2023-05-29T11:29:16.524690361Z",
          "start_time": "2023-05-29T11:29:16.506882079Z"
        },
        "id": "5b5e5769"
      },
      "outputs": [],
      "source": [
        "def crossover(ch1, ch2):\n",
        "    new_child_1 = []\n",
        "    new_child_2 = []\n",
        "    for i in range(16):\n",
        "        x = rndm.randint(0, 1)\n",
        "        if x == 1:\n",
        "            new_child_1.append(ch1[i])\n",
        "            new_child_2.append(ch2[i])\n",
        "        elif x == 0:\n",
        "            new_child_2.append(ch1[i])\n",
        "            new_child_1.append(ch2[i])\n",
        "    return new_child_1, new_child_2"
      ]
    },
    {
      "cell_type": "markdown",
      "id": "bee65fa1",
      "metadata": {
        "id": "bee65fa1"
      },
      "source": [
        "### Mutation"
      ]
    },
    {
      "cell_type": "code",
      "execution_count": 24,
      "id": "5e4b77f2",
      "metadata": {
        "ExecuteTime": {
          "end_time": "2023-05-29T11:29:17.334132855Z",
          "start_time": "2023-05-29T11:29:17.310513750Z"
        },
        "id": "5e4b77f2"
      },
      "outputs": [],
      "source": [
        "def mutation(ch, pm, initial):\n",
        "    for i in range(16):\n",
        "        x = rndm.randint(0, 100)\n",
        "        if x < pm * 100:\n",
        "            ch[i] = make_gene(initial[i])\n",
        "    return ch"
      ]
    },
    {
      "cell_type": "markdown",
      "id": "f1078fee",
      "metadata": {
        "id": "f1078fee"
      },
      "source": [
        "## Part 5: Implementing The Genetic Algorithm"
      ]
    },
    {
      "cell_type": "markdown",
      "id": "e7b04238",
      "metadata": {
        "id": "e7b04238"
      },
      "source": [
        "In this part, we use the components defined in previous steps to write the genetic algorithm."
      ]
    },
    {
      "cell_type": "markdown",
      "source": [
        "Read the puzzle from the given address\n"
      ],
      "metadata": {
        "collapsed": false,
        "id": "rMOBXJitmUgM"
      },
      "id": "rMOBXJitmUgM"
    },
    {
      "cell_type": "code",
      "execution_count": 25,
      "id": "1615f3a0",
      "metadata": {
        "ExecuteTime": {
          "end_time": "2023-05-29T11:29:18.596156848Z",
          "start_time": "2023-05-29T11:29:18.557229273Z"
        },
        "id": "1615f3a0"
      },
      "outputs": [],
      "source": [
        "def read_puzzle(address):\n",
        "    puzzle = []\n",
        "    f = open(address, 'r')\n",
        "    for row in f:\n",
        "        temp = row.split()\n",
        "        puzzle.append([int(c) for c in temp])\n",
        "    return puzzle"
      ]
    },
    {
      "cell_type": "markdown",
      "source": [
        "Get the mating pool using the random method"
      ],
      "metadata": {
        "collapsed": false,
        "id": "yX0lv3nRmUgM"
      },
      "id": "yX0lv3nRmUgM"
    },
    {
      "cell_type": "code",
      "execution_count": 26,
      "id": "78ad13db",
      "metadata": {
        "ExecuteTime": {
          "end_time": "2023-05-29T11:29:18.872305918Z",
          "start_time": "2023-05-29T11:29:18.857373117Z"
        },
        "id": "78ad13db"
      },
      "outputs": [],
      "source": [
        "def r_get_mating_pool(population):\n",
        "    fitness_list = []\n",
        "    pool = []\n",
        "    for chromosome in population:\n",
        "        fitness = get_fitness(chromosome)\n",
        "        fitness_list.append((fitness, chromosome))\n",
        "    fitness_list.sort()\n",
        "    weight = list(range(1, len(fitness_list) + 1))\n",
        "    for _ in range(len(population)):\n",
        "        ch = rndm.choices(fitness_list, weight)[0]\n",
        "        pool.append(ch[1])\n",
        "    return pool\n"
      ]
    },
    {
      "cell_type": "markdown",
      "source": [
        "Get the mating pool using the weighted method"
      ],
      "metadata": {
        "collapsed": false,
        "id": "bMbVUcEpmUgN"
      },
      "id": "bMbVUcEpmUgN"
    },
    {
      "cell_type": "code",
      "execution_count": 27,
      "id": "271217ae",
      "metadata": {
        "ExecuteTime": {
          "end_time": "2023-05-29T11:29:19.179367689Z",
          "start_time": "2023-05-29T11:29:19.163280603Z"
        },
        "id": "271217ae"
      },
      "outputs": [],
      "source": [
        "def w_get_mating_pool(population):\n",
        "    fitness_list = []\n",
        "    pool = []\n",
        "    for chromosome in population:\n",
        "        fitness = get_fitness(chromosome)\n",
        "        fitness_list.append((fitness, chromosome))\n",
        "    weight = [fit[0] - fitness_list[0][0] for fit in fitness_list]\n",
        "    for _ in range(len(population)):\n",
        "        ch = rndm.choices(fitness_list, weights=weight)[0]\n",
        "        pool.append(ch[1])\n",
        "    return pool\n"
      ]
    },
    {
      "cell_type": "markdown",
      "source": [
        "Generate the offsprings from the mating pool"
      ],
      "metadata": {
        "collapsed": false,
        "id": "qTetmZlimUgO"
      },
      "id": "qTetmZlimUgO"
    },
    {
      "cell_type": "code",
      "execution_count": 28,
      "id": "a0407dc1",
      "metadata": {
        "ExecuteTime": {
          "end_time": "2023-05-29T11:29:19.491939593Z",
          "start_time": "2023-05-29T11:29:19.472757374Z"
        },
        "id": "a0407dc1"
      },
      "outputs": [],
      "source": [
        "def get_offsprings(population, initial, pm, pc):\n",
        "    new_pool = []\n",
        "    i = 0\n",
        "    while i < len(population):\n",
        "        ch1 = population[i]\n",
        "        ch2 = population[(i + 1) % len(population)]\n",
        "        x = rndm.randint(0, 100)\n",
        "        if x < pc * 100:\n",
        "            ch1, ch2 = crossover(ch1, ch2)\n",
        "        new_pool.append(mutation(ch1, pm, initial))\n",
        "        new_pool.append(mutation(ch2, pm, initial))\n",
        "        i += 2\n",
        "    return new_pool"
      ]
    },
    {
      "cell_type": "code",
      "execution_count": 29,
      "id": "969288f1",
      "metadata": {
        "ExecuteTime": {
          "end_time": "2023-05-29T11:29:20.023181388Z",
          "start_time": "2023-05-29T11:29:19.999854735Z"
        },
        "id": "969288f1"
      },
      "outputs": [],
      "source": [
        "# Population size\n",
        "POPULATION = 1000\n",
        "\n",
        "# Number of generations\n",
        "REPETITION = 1000\n",
        "\n",
        "# Probability of mutation\n",
        "PM = 0.1\n",
        "\n",
        "# Probability of crossover\n",
        "PC = 0.95\n",
        "\n",
        "# Main genetic algorithm function\n",
        "def genetic_algorithm(initial_file):\n",
        "    initial = read_puzzle(initial_file)\n",
        "    population = make_population(POPULATION, initial)\n",
        "    for _ in range(REPETITION):\n",
        "        mating_pool = r_get_mating_pool(population)\n",
        "        rndm.shuffle(mating_pool)\n",
        "        population = get_offsprings(mating_pool, initial, PM, PC)\n",
        "        fit = [get_fitness(c) for c in population]\n",
        "        m = max(fit)\n",
        "        if m == 0:\n",
        "            return population\n",
        "    return population"
      ]
    },
    {
      "cell_type": "markdown",
      "source": [
        "Run the algorithm and time it"
      ],
      "metadata": {
        "collapsed": false,
        "id": "gZ0fdiDmmUgP"
      },
      "id": "gZ0fdiDmmUgP"
    },
    {
      "cell_type": "code",
      "execution_count": 15,
      "id": "ed21c4fa",
      "metadata": {
        "ExecuteTime": {
          "end_time": "2023-05-29T11:33:28.432304999Z",
          "start_time": "2023-05-29T11:30:30.731602922Z"
        },
        "colab": {
          "base_uri": "https://localhost:8080/"
        },
        "id": "ed21c4fa",
        "outputId": "f5662fbd-e147-4263-8eed-6caabae74960"
      },
      "outputs": [
        {
          "output_type": "stream",
          "name": "stdout",
          "text": [
            "time_taken:  418.91910195350647\n",
            "-61\n",
            "14 9 4 3 10 5 6 13 15 11 8 12 1 2 7 16 \n",
            "7 4 5 12 14 9 1 15 16 13 10 6 11 3 2 8 \n",
            "5 8 6 15 3 11 16 12 7 10 9 1 2 4 14 13 \n",
            "16 10 2 7 15 8 11 4 3 5 13 14 9 6 12 1 \n",
            "6 7 13 2 8 14 11 5 12 1 3 9 4 15 10 16 \n",
            "10 5 12 4 16 9 13 3 6 15 14 11 1 8 2 7 \n",
            "14 15 3 16 2 8 7 1 10 4 5 13 12 9 6 11 \n",
            "1 11 9 3 15 4 12 10 16 8 2 7 6 5 13 14 \n",
            "12 14 11 5 8 7 3 6 4 9 16 15 13 10 1 2 \n",
            "7 16 1 2 4 12 10 5 8 11 13 3 14 6 9 15 \n",
            "13 6 8 10 9 15 2 11 14 7 12 5 4 1 16 3 \n",
            "4 3 15 11 6 16 9 14 13 2 1 10 8 7 12 5 \n",
            "11 5 10 9 7 4 8 15 1 16 6 2 3 13 14 12 \n",
            "4 2 7 1 9 13 15 16 10 12 11 3 5 14 8 6 \n",
            "3 12 16 6 1 10 14 11 5 13 7 8 15 9 4 2 \n",
            "8 13 15 1 5 3 4 2 9 14 12 6 7 10 11 16 \n"
          ]
        }
      ],
      "source": [
        "tic = time.time()\n",
        "r = genetic_algorithm(\"/content/drive/MyDrive/anexos/4x4-01.txt\")\n",
        "toc = time.time()\n",
        "print(\"time_taken: \", toc - tic)\n",
        "fit = [get_fitness(c) for c in r]\n",
        "m = max(fit)\n",
        "print(max(fit))\n",
        "\n",
        "# Print the chromosome with the highest fitness\n",
        "for c in r:\n",
        "    if get_fitness(c) == m:\n",
        "        pch(c)\n",
        "        break"
      ]
    },
    {
      "cell_type": "markdown",
      "id": "91319676",
      "metadata": {
        "id": "91319676"
      },
      "source": [
        "## Problems with Genetic Algorithm"
      ]
    },
    {
      "cell_type": "markdown",
      "id": "4d92717c",
      "metadata": {
        "id": "4d92717c"
      },
      "source": [
        "The algorithm may encounter a challenge when it becomes trapped at a local maximum and the desired solution, such as in a Sudoku problem, cannot be achieved. One approach to address this issue is to initially increase the mutation rate, although this can have its own drawbacks as mentioned earlier. Alternatively, a function can be defined to identify local maximums, such as by detecting repeated values, and in such cases, the mutation rate can be increased. Another solution involves increasing the population size or the number of iterations the algorithm runs. Modifying the fitness function or changing the method for selecting individuals in the mating pool are additional strategies. Overall, since the algorithm's nature involves randomness, it is possible to encounter this problem regardless of the chosen method, but running the algorithm multiple times can sometimes be helpful."
      ]
    },
    {
      "cell_type": "markdown",
      "source": [
        "## Diferenças entre esse código e o outro"
      ],
      "metadata": {
        "id": "lC_nZEo6qdNg"
      },
      "id": "lC_nZEo6qdNg"
    },
    {
      "cell_type": "markdown",
      "source": [
        "### Para algoritmos genéticos, dependendo da implementação, o tempo de execução pode variar por vários motivos:\n",
        "\n",
        "- Tamanho da População: O tamanho da população tem um impacto significativo no desempenho dos algoritmos genéticos. Populações maiores podem levar mais tempo para serem processadas porque o número de cromossomos a serem analisados ​​aumenta a cada geração. Muito ou pouco afeta a diversidade genética da população, por isso levará algum tempo para encontrar uma solução.\n",
        "- Configurações de parâmetros: As configurações dos parâmetros do algoritmo genético, como número máximo de gerações, tamanho da população, variância e taxa de divisão, afetam o tempo de execução e a qualidade da solução obtida.\n",
        "\n",
        "Portanto, o primeiro código (código que utiliza diretamente o algoritmo genético para resolver o Sudoku) é mais rápido que o segundo código (código que utiliza uma biblioteca externa através do módulo object.sudoku_genetics)."
      ],
      "metadata": {
        "id": "spWiCpisqhIs"
      },
      "id": "spWiCpisqhIs"
    }
  ],
  "metadata": {
    "kernelspec": {
      "display_name": "Python 3",
      "name": "python3"
    },
    "language_info": {
      "codemirror_mode": {
        "name": "ipython",
        "version": 3
      },
      "file_extension": ".py",
      "mimetype": "text/x-python",
      "name": "python",
      "nbconvert_exporter": "python",
      "pygments_lexer": "ipython3",
      "version": "3.8.10"
    },
    "colab": {
      "provenance": [],
      "gpuType": "T4",
      "include_colab_link": true
    },
    "accelerator": "GPU"
  },
  "nbformat": 4,
  "nbformat_minor": 5
}